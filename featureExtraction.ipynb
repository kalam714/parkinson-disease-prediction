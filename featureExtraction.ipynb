{
 "cells": [
  {
   "cell_type": "code",
   "execution_count": 4,
   "metadata": {},
   "outputs": [],
   "source": [
    "import pandas as pd\n",
    "import numpy as np\n",
    "\n",
    "from sklearn.preprocessing import MinMaxScaler\n",
    "from sklearn.model_selection import train_test_split,cross_val_score\n",
    "from sklearn.metrics import accuracy_score,mean_squared_error\n",
    "from sklearn.metrics import f1_score\n",
    "from sklearn.metrics import confusion_matrix\n",
    "from sklearn.metrics import classification_report"
   ]
  },
  {
   "cell_type": "code",
   "execution_count": 5,
   "metadata": {},
   "outputs": [],
   "source": [
    "import seaborn as sns\n",
    "import matplotlib.pyplot as pl"
   ]
  },
  {
   "cell_type": "code",
   "execution_count": 6,
   "metadata": {},
   "outputs": [
    {
     "data": {
      "text/plain": [
       "(77, 31)"
      ]
     },
     "execution_count": 6,
     "metadata": {},
     "output_type": "execute_result"
    }
   ],
   "source": [
    "data=pd.read_csv('data.csv')\n",
    "data.shape"
   ]
  },
  {
   "cell_type": "code",
   "execution_count": 7,
   "metadata": {},
   "outputs": [
    {
     "data": {
      "text/plain": [
       "['Unnamed: 0',\n",
       " 'no_strokes_st',\n",
       " 'no_strokes_dy',\n",
       " 'speed_st',\n",
       " 'speed_dy',\n",
       " 'magnitude_vel_st',\n",
       " 'magnitude_horz_vel_st',\n",
       " 'magnitude_vert_vel_st',\n",
       " 'magnitude_vel_dy',\n",
       " 'magnitude_horz_vel_dy',\n",
       " 'magnitude_vert_vel_dy',\n",
       " 'magnitude_acc_st',\n",
       " 'magnitude_horz_acc_st',\n",
       " 'magnitude_vert_acc_st',\n",
       " 'magnitude_acc_dy',\n",
       " 'magnitude_horz_acc_dy',\n",
       " 'magnitude_vert_acc_dy',\n",
       " 'magnitude_jerk_st',\n",
       " 'magnitude_horz_jerk_st',\n",
       " 'magnitude_vert_jerk_st',\n",
       " 'magnitude_jerk_dy',\n",
       " 'magnitude_horz_jerk_dy',\n",
       " 'magnitude_vert_jerk_dy',\n",
       " 'ncv_st',\n",
       " 'ncv_dy',\n",
       " 'nca_st',\n",
       " 'nca_dy',\n",
       " 'in_air_stcp',\n",
       " 'on_surface_st',\n",
       " 'on_surface_dy',\n",
       " 'target']"
      ]
     },
     "execution_count": 7,
     "metadata": {},
     "output_type": "execute_result"
    }
   ],
   "source": [
    "list(data)"
   ]
  },
  {
   "cell_type": "code",
   "execution_count": 8,
   "metadata": {},
   "outputs": [
    {
     "data": {
      "text/html": [
       "<div>\n",
       "<style scoped>\n",
       "    .dataframe tbody tr th:only-of-type {\n",
       "        vertical-align: middle;\n",
       "    }\n",
       "\n",
       "    .dataframe tbody tr th {\n",
       "        vertical-align: top;\n",
       "    }\n",
       "\n",
       "    .dataframe thead th {\n",
       "        text-align: right;\n",
       "    }\n",
       "</style>\n",
       "<table border=\"1\" class=\"dataframe\">\n",
       "  <thead>\n",
       "    <tr style=\"text-align: right;\">\n",
       "      <th></th>\n",
       "      <th>Unnamed: 0</th>\n",
       "      <th>no_strokes_st</th>\n",
       "      <th>no_strokes_dy</th>\n",
       "      <th>speed_st</th>\n",
       "      <th>speed_dy</th>\n",
       "      <th>magnitude_vel_st</th>\n",
       "      <th>magnitude_horz_vel_st</th>\n",
       "      <th>magnitude_vert_vel_st</th>\n",
       "      <th>magnitude_vel_dy</th>\n",
       "      <th>magnitude_horz_vel_dy</th>\n",
       "      <th>...</th>\n",
       "      <th>magnitude_horz_jerk_dy</th>\n",
       "      <th>magnitude_vert_jerk_dy</th>\n",
       "      <th>ncv_st</th>\n",
       "      <th>ncv_dy</th>\n",
       "      <th>nca_st</th>\n",
       "      <th>nca_dy</th>\n",
       "      <th>in_air_stcp</th>\n",
       "      <th>on_surface_st</th>\n",
       "      <th>on_surface_dy</th>\n",
       "      <th>target</th>\n",
       "    </tr>\n",
       "  </thead>\n",
       "  <tbody>\n",
       "    <tr>\n",
       "      <th>0</th>\n",
       "      <td>0</td>\n",
       "      <td>12.0</td>\n",
       "      <td>2.0</td>\n",
       "      <td>0.000293</td>\n",
       "      <td>0.000431</td>\n",
       "      <td>0.061342</td>\n",
       "      <td>0.038319</td>\n",
       "      <td>0.039050</td>\n",
       "      <td>0.084891</td>\n",
       "      <td>0.053885</td>\n",
       "      <td>...</td>\n",
       "      <td>0.000006</td>\n",
       "      <td>0.000006</td>\n",
       "      <td>185.250000</td>\n",
       "      <td>412.857143</td>\n",
       "      <td>61.833333</td>\n",
       "      <td>470.000000</td>\n",
       "      <td>0.0</td>\n",
       "      <td>3678.0</td>\n",
       "      <td>4852.0</td>\n",
       "      <td>1.0</td>\n",
       "    </tr>\n",
       "    <tr>\n",
       "      <th>1</th>\n",
       "      <td>1</td>\n",
       "      <td>4.0</td>\n",
       "      <td>6.0</td>\n",
       "      <td>0.000286</td>\n",
       "      <td>0.000281</td>\n",
       "      <td>0.119159</td>\n",
       "      <td>0.077012</td>\n",
       "      <td>0.074216</td>\n",
       "      <td>0.160497</td>\n",
       "      <td>0.101360</td>\n",
       "      <td>...</td>\n",
       "      <td>0.000010</td>\n",
       "      <td>0.000009</td>\n",
       "      <td>192.777778</td>\n",
       "      <td>173.875000</td>\n",
       "      <td>102.500000</td>\n",
       "      <td>54.000000</td>\n",
       "      <td>0.0</td>\n",
       "      <td>1688.0</td>\n",
       "      <td>1587.0</td>\n",
       "      <td>1.0</td>\n",
       "    </tr>\n",
       "    <tr>\n",
       "      <th>2</th>\n",
       "      <td>2</td>\n",
       "      <td>4.0</td>\n",
       "      <td>4.0</td>\n",
       "      <td>0.000278</td>\n",
       "      <td>0.000277</td>\n",
       "      <td>0.113889</td>\n",
       "      <td>0.071547</td>\n",
       "      <td>0.073336</td>\n",
       "      <td>0.191965</td>\n",
       "      <td>0.117724</td>\n",
       "      <td>...</td>\n",
       "      <td>0.000023</td>\n",
       "      <td>0.000042</td>\n",
       "      <td>263.571429</td>\n",
       "      <td>136.333333</td>\n",
       "      <td>120.500000</td>\n",
       "      <td>25.200000</td>\n",
       "      <td>0.0</td>\n",
       "      <td>2246.0</td>\n",
       "      <td>1332.0</td>\n",
       "      <td>1.0</td>\n",
       "    </tr>\n",
       "    <tr>\n",
       "      <th>3</th>\n",
       "      <td>3</td>\n",
       "      <td>4.0</td>\n",
       "      <td>4.0</td>\n",
       "      <td>0.000286</td>\n",
       "      <td>0.000275</td>\n",
       "      <td>0.154621</td>\n",
       "      <td>0.101146</td>\n",
       "      <td>0.096300</td>\n",
       "      <td>0.152413</td>\n",
       "      <td>0.101235</td>\n",
       "      <td>...</td>\n",
       "      <td>0.000009</td>\n",
       "      <td>0.000005</td>\n",
       "      <td>225.285714</td>\n",
       "      <td>308.400000</td>\n",
       "      <td>59.333333</td>\n",
       "      <td>177.000000</td>\n",
       "      <td>0.0</td>\n",
       "      <td>1775.0</td>\n",
       "      <td>1703.0</td>\n",
       "      <td>1.0</td>\n",
       "    </tr>\n",
       "    <tr>\n",
       "      <th>4</th>\n",
       "      <td>4</td>\n",
       "      <td>2.0</td>\n",
       "      <td>2.0</td>\n",
       "      <td>0.000279</td>\n",
       "      <td>0.000270</td>\n",
       "      <td>0.060058</td>\n",
       "      <td>0.039449</td>\n",
       "      <td>0.036737</td>\n",
       "      <td>0.081577</td>\n",
       "      <td>0.052451</td>\n",
       "      <td>...</td>\n",
       "      <td>0.000010</td>\n",
       "      <td>0.000007</td>\n",
       "      <td>226.700000</td>\n",
       "      <td>168.000000</td>\n",
       "      <td>79.500000</td>\n",
       "      <td>43.857143</td>\n",
       "      <td>0.0</td>\n",
       "      <td>4764.0</td>\n",
       "      <td>3335.0</td>\n",
       "      <td>1.0</td>\n",
       "    </tr>\n",
       "  </tbody>\n",
       "</table>\n",
       "<p>5 rows × 31 columns</p>\n",
       "</div>"
      ],
      "text/plain": [
       "   Unnamed: 0  no_strokes_st  no_strokes_dy  speed_st  speed_dy  \\\n",
       "0           0           12.0            2.0  0.000293  0.000431   \n",
       "1           1            4.0            6.0  0.000286  0.000281   \n",
       "2           2            4.0            4.0  0.000278  0.000277   \n",
       "3           3            4.0            4.0  0.000286  0.000275   \n",
       "4           4            2.0            2.0  0.000279  0.000270   \n",
       "\n",
       "   magnitude_vel_st  magnitude_horz_vel_st  magnitude_vert_vel_st  \\\n",
       "0          0.061342               0.038319               0.039050   \n",
       "1          0.119159               0.077012               0.074216   \n",
       "2          0.113889               0.071547               0.073336   \n",
       "3          0.154621               0.101146               0.096300   \n",
       "4          0.060058               0.039449               0.036737   \n",
       "\n",
       "   magnitude_vel_dy  magnitude_horz_vel_dy  ...  magnitude_horz_jerk_dy  \\\n",
       "0          0.084891               0.053885  ...                0.000006   \n",
       "1          0.160497               0.101360  ...                0.000010   \n",
       "2          0.191965               0.117724  ...                0.000023   \n",
       "3          0.152413               0.101235  ...                0.000009   \n",
       "4          0.081577               0.052451  ...                0.000010   \n",
       "\n",
       "   magnitude_vert_jerk_dy      ncv_st      ncv_dy      nca_st      nca_dy  \\\n",
       "0                0.000006  185.250000  412.857143   61.833333  470.000000   \n",
       "1                0.000009  192.777778  173.875000  102.500000   54.000000   \n",
       "2                0.000042  263.571429  136.333333  120.500000   25.200000   \n",
       "3                0.000005  225.285714  308.400000   59.333333  177.000000   \n",
       "4                0.000007  226.700000  168.000000   79.500000   43.857143   \n",
       "\n",
       "   in_air_stcp  on_surface_st  on_surface_dy  target  \n",
       "0          0.0         3678.0         4852.0     1.0  \n",
       "1          0.0         1688.0         1587.0     1.0  \n",
       "2          0.0         2246.0         1332.0     1.0  \n",
       "3          0.0         1775.0         1703.0     1.0  \n",
       "4          0.0         4764.0         3335.0     1.0  \n",
       "\n",
       "[5 rows x 31 columns]"
      ]
     },
     "execution_count": 8,
     "metadata": {},
     "output_type": "execute_result"
    }
   ],
   "source": [
    "data.head()"
   ]
  },
  {
   "cell_type": "code",
   "execution_count": 9,
   "metadata": {},
   "outputs": [
    {
     "data": {
      "text/plain": [
       "1.0    62\n",
       "0.0    15\n",
       "Name: target, dtype: int64"
      ]
     },
     "execution_count": 9,
     "metadata": {},
     "output_type": "execute_result"
    }
   ],
   "source": [
    "data[\"target\"].value_counts()"
   ]
  },
  {
   "cell_type": "code",
   "execution_count": 10,
   "metadata": {
    "scrolled": true
   },
   "outputs": [
    {
     "data": {
      "text/html": [
       "<div>\n",
       "<style scoped>\n",
       "    .dataframe tbody tr th:only-of-type {\n",
       "        vertical-align: middle;\n",
       "    }\n",
       "\n",
       "    .dataframe tbody tr th {\n",
       "        vertical-align: top;\n",
       "    }\n",
       "\n",
       "    .dataframe thead th {\n",
       "        text-align: right;\n",
       "    }\n",
       "</style>\n",
       "<table border=\"1\" class=\"dataframe\">\n",
       "  <thead>\n",
       "    <tr style=\"text-align: right;\">\n",
       "      <th></th>\n",
       "      <th>no_strokes_st</th>\n",
       "      <th>no_strokes_dy</th>\n",
       "      <th>speed_st</th>\n",
       "      <th>speed_dy</th>\n",
       "      <th>magnitude_vel_st</th>\n",
       "      <th>magnitude_horz_vel_st</th>\n",
       "      <th>magnitude_vert_vel_st</th>\n",
       "      <th>magnitude_vel_dy</th>\n",
       "      <th>magnitude_horz_vel_dy</th>\n",
       "      <th>magnitude_vert_vel_dy</th>\n",
       "      <th>...</th>\n",
       "      <th>magnitude_horz_jerk_dy</th>\n",
       "      <th>magnitude_vert_jerk_dy</th>\n",
       "      <th>ncv_st</th>\n",
       "      <th>ncv_dy</th>\n",
       "      <th>nca_st</th>\n",
       "      <th>nca_dy</th>\n",
       "      <th>in_air_stcp</th>\n",
       "      <th>on_surface_st</th>\n",
       "      <th>on_surface_dy</th>\n",
       "      <th>target</th>\n",
       "    </tr>\n",
       "  </thead>\n",
       "  <tbody>\n",
       "    <tr>\n",
       "      <th>0</th>\n",
       "      <td>12.0</td>\n",
       "      <td>2.0</td>\n",
       "      <td>0.000293</td>\n",
       "      <td>0.000431</td>\n",
       "      <td>0.061342</td>\n",
       "      <td>0.038319</td>\n",
       "      <td>0.039050</td>\n",
       "      <td>0.084891</td>\n",
       "      <td>0.053885</td>\n",
       "      <td>0.052829</td>\n",
       "      <td>...</td>\n",
       "      <td>0.000006</td>\n",
       "      <td>0.000006</td>\n",
       "      <td>185.250000</td>\n",
       "      <td>412.857143</td>\n",
       "      <td>61.833333</td>\n",
       "      <td>470.000000</td>\n",
       "      <td>0.0</td>\n",
       "      <td>3678.0</td>\n",
       "      <td>4852.0</td>\n",
       "      <td>1.0</td>\n",
       "    </tr>\n",
       "    <tr>\n",
       "      <th>1</th>\n",
       "      <td>4.0</td>\n",
       "      <td>6.0</td>\n",
       "      <td>0.000286</td>\n",
       "      <td>0.000281</td>\n",
       "      <td>0.119159</td>\n",
       "      <td>0.077012</td>\n",
       "      <td>0.074216</td>\n",
       "      <td>0.160497</td>\n",
       "      <td>0.101360</td>\n",
       "      <td>0.099211</td>\n",
       "      <td>...</td>\n",
       "      <td>0.000010</td>\n",
       "      <td>0.000009</td>\n",
       "      <td>192.777778</td>\n",
       "      <td>173.875000</td>\n",
       "      <td>102.500000</td>\n",
       "      <td>54.000000</td>\n",
       "      <td>0.0</td>\n",
       "      <td>1688.0</td>\n",
       "      <td>1587.0</td>\n",
       "      <td>1.0</td>\n",
       "    </tr>\n",
       "    <tr>\n",
       "      <th>2</th>\n",
       "      <td>4.0</td>\n",
       "      <td>4.0</td>\n",
       "      <td>0.000278</td>\n",
       "      <td>0.000277</td>\n",
       "      <td>0.113889</td>\n",
       "      <td>0.071547</td>\n",
       "      <td>0.073336</td>\n",
       "      <td>0.191965</td>\n",
       "      <td>0.117724</td>\n",
       "      <td>0.127062</td>\n",
       "      <td>...</td>\n",
       "      <td>0.000023</td>\n",
       "      <td>0.000042</td>\n",
       "      <td>263.571429</td>\n",
       "      <td>136.333333</td>\n",
       "      <td>120.500000</td>\n",
       "      <td>25.200000</td>\n",
       "      <td>0.0</td>\n",
       "      <td>2246.0</td>\n",
       "      <td>1332.0</td>\n",
       "      <td>1.0</td>\n",
       "    </tr>\n",
       "    <tr>\n",
       "      <th>3</th>\n",
       "      <td>4.0</td>\n",
       "      <td>4.0</td>\n",
       "      <td>0.000286</td>\n",
       "      <td>0.000275</td>\n",
       "      <td>0.154621</td>\n",
       "      <td>0.101146</td>\n",
       "      <td>0.096300</td>\n",
       "      <td>0.152413</td>\n",
       "      <td>0.101235</td>\n",
       "      <td>0.091241</td>\n",
       "      <td>...</td>\n",
       "      <td>0.000009</td>\n",
       "      <td>0.000005</td>\n",
       "      <td>225.285714</td>\n",
       "      <td>308.400000</td>\n",
       "      <td>59.333333</td>\n",
       "      <td>177.000000</td>\n",
       "      <td>0.0</td>\n",
       "      <td>1775.0</td>\n",
       "      <td>1703.0</td>\n",
       "      <td>1.0</td>\n",
       "    </tr>\n",
       "    <tr>\n",
       "      <th>4</th>\n",
       "      <td>2.0</td>\n",
       "      <td>2.0</td>\n",
       "      <td>0.000279</td>\n",
       "      <td>0.000270</td>\n",
       "      <td>0.060058</td>\n",
       "      <td>0.039449</td>\n",
       "      <td>0.036737</td>\n",
       "      <td>0.081577</td>\n",
       "      <td>0.052451</td>\n",
       "      <td>0.050634</td>\n",
       "      <td>...</td>\n",
       "      <td>0.000010</td>\n",
       "      <td>0.000007</td>\n",
       "      <td>226.700000</td>\n",
       "      <td>168.000000</td>\n",
       "      <td>79.500000</td>\n",
       "      <td>43.857143</td>\n",
       "      <td>0.0</td>\n",
       "      <td>4764.0</td>\n",
       "      <td>3335.0</td>\n",
       "      <td>1.0</td>\n",
       "    </tr>\n",
       "  </tbody>\n",
       "</table>\n",
       "<p>5 rows × 30 columns</p>\n",
       "</div>"
      ],
      "text/plain": [
       "   no_strokes_st  no_strokes_dy  speed_st  speed_dy  magnitude_vel_st  \\\n",
       "0           12.0            2.0  0.000293  0.000431          0.061342   \n",
       "1            4.0            6.0  0.000286  0.000281          0.119159   \n",
       "2            4.0            4.0  0.000278  0.000277          0.113889   \n",
       "3            4.0            4.0  0.000286  0.000275          0.154621   \n",
       "4            2.0            2.0  0.000279  0.000270          0.060058   \n",
       "\n",
       "   magnitude_horz_vel_st  magnitude_vert_vel_st  magnitude_vel_dy  \\\n",
       "0               0.038319               0.039050          0.084891   \n",
       "1               0.077012               0.074216          0.160497   \n",
       "2               0.071547               0.073336          0.191965   \n",
       "3               0.101146               0.096300          0.152413   \n",
       "4               0.039449               0.036737          0.081577   \n",
       "\n",
       "   magnitude_horz_vel_dy  magnitude_vert_vel_dy  ...  magnitude_horz_jerk_dy  \\\n",
       "0               0.053885               0.052829  ...                0.000006   \n",
       "1               0.101360               0.099211  ...                0.000010   \n",
       "2               0.117724               0.127062  ...                0.000023   \n",
       "3               0.101235               0.091241  ...                0.000009   \n",
       "4               0.052451               0.050634  ...                0.000010   \n",
       "\n",
       "   magnitude_vert_jerk_dy      ncv_st      ncv_dy      nca_st      nca_dy  \\\n",
       "0                0.000006  185.250000  412.857143   61.833333  470.000000   \n",
       "1                0.000009  192.777778  173.875000  102.500000   54.000000   \n",
       "2                0.000042  263.571429  136.333333  120.500000   25.200000   \n",
       "3                0.000005  225.285714  308.400000   59.333333  177.000000   \n",
       "4                0.000007  226.700000  168.000000   79.500000   43.857143   \n",
       "\n",
       "   in_air_stcp  on_surface_st  on_surface_dy  target  \n",
       "0          0.0         3678.0         4852.0     1.0  \n",
       "1          0.0         1688.0         1587.0     1.0  \n",
       "2          0.0         2246.0         1332.0     1.0  \n",
       "3          0.0         1775.0         1703.0     1.0  \n",
       "4          0.0         4764.0         3335.0     1.0  \n",
       "\n",
       "[5 rows x 30 columns]"
      ]
     },
     "execution_count": 10,
     "metadata": {},
     "output_type": "execute_result"
    }
   ],
   "source": [
    "data=data.drop(['Unnamed: 0'],axis=1)\n",
    "data.head()"
   ]
  },
  {
   "cell_type": "code",
   "execution_count": 11,
   "metadata": {},
   "outputs": [],
   "source": [
    "features=data.drop(['target'],axis=1)\n",
    "labels=data['target']\n"
   ]
  },
  {
   "cell_type": "code",
   "execution_count": 12,
   "metadata": {},
   "outputs": [],
   "source": [
    "scaler=MinMaxScaler((-1,1))\n",
    "x=scaler.fit_transform(features)\n",
    "y=labels"
   ]
  },
  {
   "cell_type": "code",
   "execution_count": 13,
   "metadata": {},
   "outputs": [],
   "source": [
    "from sklearn.linear_model import LogisticRegression\n",
    "from xgboost import XGBRFClassifier,XGBClassifier\n",
    "from sklearn.neighbors import KNeighborsClassifier\n",
    "from sklearn.svm import SVC\n",
    "from sklearn import svm\n",
    "from sklearn.tree import DecisionTreeClassifier\n",
    "from sklearn.ensemble import AdaBoostClassifier,ExtraTreesClassifier,GradientBoostingClassifier,RandomForestClassifier\n",
    "from sklearn.model_selection import GridSearchCV"
   ]
  },
  {
   "cell_type": "code",
   "execution_count": 15,
   "metadata": {},
   "outputs": [],
   "source": [
    " # model_params = {\n",
    "#     'svm': {\n",
    "#         'model': svm.SVC(gamma='auto'),\n",
    "#         'params' : {\n",
    "#             'C': [1,10,20],\n",
    "#             'kernel': ['poly','linear','rbf']\n",
    "#         }  \n",
    "#     },\n",
    "# #     'xgb': {\n",
    "# #         'model': GradientBoostingClassifier(),\n",
    "# #         'params' : {\n",
    "# #             'learning_rate': [0.01, 0.1, 0.2, 1],\n",
    "# #             'min_samples_split': np.linspace(0.1, 0.5, 10),\n",
    "# #             'max_depth':[3,5,8],\n",
    "# #             'subsample':[0.5, 0.9, 1.0],\n",
    "# #             'n_estimators':[100,1000]\n",
    "# #         }  \n",
    "#   #  },\n",
    "#     'xgb':{\n",
    "#         'model':XGBClassifier(),\n",
    "#             'params':{\n",
    "#                 'booster':['gblinear'],\n",
    "#                 'learning_rate': [0.01, 0.1, 0.2, 1],\n",
    "#                 \"max_depth\":[3,5,8],\n",
    "#                 'min_samples_split': np.linspace(0.1, 0.5, 10),\n",
    "#             }\n",
    "        \n",
    "        \n",
    "#     },\n",
    "#     }\n",
    "#     'decision_tree': {\n",
    "#         'model': DecisionTreeClassifier(),\n",
    "#         'params' : {\n",
    "            \n",
    "#              'max_depth':[3,5,8],\n",
    "#              'criterion':['gini','entropy'],\n",
    "#              'min_samples_split': np.linspace(0.1, 0.5, 10),\n",
    "#              'splitter':['best','random'],\n",
    "#               'random_state':[2,3,4,5,6,7],\n",
    "#         }\n",
    "#     },\n",
    "#     'random_forest': {\n",
    "#         'model': RandomForestClassifier(),\n",
    "#         'params' : {\n",
    "#             'n_estimators': [1,5,10],\n",
    "#             'max_depth':[3,5,8],\n",
    "#             'criterion':['gini','entropy'],\n",
    "#             'min_samples_split': np.linspace(0.1, 0.5, 10),\n",
    "#             'max_features':['auto','sqrt','log2'],\n",
    "#             'random_state':[2,3,4,5,6,7],\n",
    "#         }\n",
    "            \n",
    "        \n",
    "#     },\n",
    "#      'extra_tree': {\n",
    "#         'model': ExtraTreesClassifier(),\n",
    "#         'params' : {\n",
    "#             'n_estimators': [1,5,10],\n",
    "#             'max_depth':[3,5,8],\n",
    "#             'criterion':['gini','entropy'],\n",
    "#             'min_samples_split': np.linspace(0.1, 0.5, 10),\n",
    "#             'max_features':['auto','sqrt','log2'],\n",
    "#             'random_state':[2,3,4,5,6,7],\n",
    "            \n",
    "#         }\n",
    "            \n",
    "        \n",
    "#     },\n",
    "#     'logistic_regression' : {\n",
    "#         'model': LogisticRegression(solver='liblinear',multi_class='auto'),\n",
    "#         'params': {\n",
    "#             'C': [1,5,10]\n",
    "#         }\n",
    "#     }\n",
    "# }"
   ]
  },
  {
   "cell_type": "code",
   "execution_count": 16,
   "metadata": {},
   "outputs": [],
   "source": [
    "# scores = []\n",
    "\n",
    "# for model_name, mp in model_params.items():\n",
    "#     clf =  GridSearchCV(mp['model'], mp['params'], cv=5, return_train_score=False)\n",
    "#     clf.fit(x,y)\n",
    "#     scores.append({\n",
    "#         'model': model_name,\n",
    "#         'best_score': clf.best_score_,\n",
    "#         'best_params': clf.best_params_\n",
    "#     })\n",
    "    \n",
    "# df = pd.DataFrame(scores,columns=['model','best_params','best_score'])\n",
    "# df"
   ]
  },
  {
   "cell_type": "code",
   "execution_count": 17,
   "metadata": {},
   "outputs": [],
   "source": [
    "# df.to_csv('param.csv')"
   ]
  },
  {
   "cell_type": "code",
   "execution_count": 18,
   "metadata": {},
   "outputs": [],
   "source": [
    "# df.head()"
   ]
  },
  {
   "cell_type": "code",
   "execution_count": 19,
   "metadata": {},
   "outputs": [],
   "source": [
    "x_train,x_test,y_train,y_test=train_test_split(x, y, test_size=0.2, random_state=43)"
   ]
  },
  {
   "cell_type": "code",
   "execution_count": 20,
   "metadata": {},
   "outputs": [
    {
     "data": {
      "text/plain": [
       "SVC(kernel='poly')"
      ]
     },
     "execution_count": 20,
     "metadata": {},
     "output_type": "execute_result"
    }
   ],
   "source": [
    "svm=SVC(kernel='poly')\n",
    "svm.fit(x_train,y_train)"
   ]
  },
  {
   "cell_type": "code",
   "execution_count": 21,
   "metadata": {},
   "outputs": [
    {
     "name": "stdout",
     "output_type": "stream",
     "text": [
      "95.08196721311475\n"
     ]
    }
   ],
   "source": [
    "y_predtr=svm.predict(x_train)\n",
    "print(accuracy_score(y_train,y_predtr)*100)"
   ]
  },
  {
   "cell_type": "code",
   "execution_count": 22,
   "metadata": {},
   "outputs": [
    {
     "name": "stdout",
     "output_type": "stream",
     "text": [
      "81.25\n"
     ]
    }
   ],
   "source": [
    "svm_pred=svm.predict(x_test)\n",
    "print(accuracy_score(y_test, svm_pred)*100)"
   ]
  },
  {
   "cell_type": "code",
   "execution_count": 23,
   "metadata": {},
   "outputs": [
    {
     "data": {
      "text/plain": [
       "array([[ 2,  2],\n",
       "       [ 1, 11]], dtype=int64)"
      ]
     },
     "execution_count": 23,
     "metadata": {},
     "output_type": "execute_result"
    }
   ],
   "source": [
    "svm_conf=confusion_matrix(y_test,svm_pred)\n",
    "svm_conf"
   ]
  },
  {
   "cell_type": "code",
   "execution_count": 24,
   "metadata": {},
   "outputs": [
    {
     "data": {
      "image/png": "[encoded data removed]",
      "text/plain": [
       "<Figure size 432x288 with 2 Axes>"
      ]
     },
     "metadata": {
      "needs_background": "light"
     },
     "output_type": "display_data"
    }
   ],
   "source": [
    "sns.heatmap(svm_conf, annot=True, annot_kws={\"size\": 25}) # font size\n",
    "\n",
    "pl.show()"
   ]
  },
  {
   "cell_type": "code",
   "execution_count": 25,
   "metadata": {},
   "outputs": [
    {
     "name": "stdout",
     "output_type": "stream",
     "text": [
      "              precision    recall  f1-score   support\n",
      "\n",
      "         0.0       0.67      0.50      0.57         4\n",
      "         1.0       0.85      0.92      0.88        12\n",
      "\n",
      "    accuracy                           0.81        16\n",
      "   macro avg       0.76      0.71      0.73        16\n",
      "weighted avg       0.80      0.81      0.80        16\n",
      "\n"
     ]
    }
   ],
   "source": [
    "print(classification_report(y_test,svm_pred))"
   ]
  },
  {
   "cell_type": "code",
   "execution_count": 26,
   "metadata": {},
   "outputs": [
    {
     "name": "stderr",
     "output_type": "stream",
     "text": [
      "C:\\Users\\lenovo\\anaconda3\\lib\\site-packages\\xgboost\\sklearn.py:892: UserWarning: The use of label encoder in XGBClassifier is deprecated and will be removed in a future release. To remove this warning, do the following: 1) Pass option use_label_encoder=False when constructing XGBClassifier object; and 2) Encode your labels (y) as integers starting with 0, i.e. 0, 1, 2, ..., [num_class - 1].\n",
      "  warnings.warn(label_encoder_deprecation_msg, UserWarning)\n"
     ]
    },
    {
     "name": "stdout",
     "output_type": "stream",
     "text": [
      "[16:31:10] WARNING: C:/Users/Administrator/workspace/xgboost-win64_release_1.3.0/src/learner.cc:541: \n",
      "Parameters: { max_depth, min_samples_split } might not be used.\n",
      "\n",
      "  This may not be accurate due to some parameters are only used in language bindings but\n",
      "  passed down to XGBoost core.  Or some parameters are not used but slip through this\n",
      "  verification. Please open an issue if you find above cases.\n",
      "\n",
      "\n",
      "[16:31:10] WARNING: C:/Users/Administrator/workspace/xgboost-win64_release_1.3.0/src/learner.cc:1061: Starting in XGBoost 1.3.0, the default evaluation metric used with the objective 'binary:logistic' was changed from 'error' to 'logloss'. Explicitly set eval_metric if you'd like to restore the old behavior.\n"
     ]
    },
    {
     "data": {
      "text/plain": [
       "XGBClassifier(base_score=0.5, booster='gblinear', colsample_bylevel=None,\n",
       "              colsample_bynode=None, colsample_bytree=None, gamma=None,\n",
       "              gpu_id=-1, importance_type='gain', interaction_constraints=None,\n",
       "              learning_rate=1, max_delta_step=None, max_depth=3,\n",
       "              min_child_weight=None, min_samples_split=0.233, missing=nan,\n",
       "              monotone_constraints=None, n_estimators=100, n_jobs=4,\n",
       "              num_parallel_tree=None, random_state=0, reg_alpha=0, reg_lambda=0,\n",
       "              scale_pos_weight=1, subsample=None, tree_method=None,\n",
       "              validate_parameters=1, verbosity=None)"
      ]
     },
     "execution_count": 26,
     "metadata": {},
     "output_type": "execute_result"
    }
   ],
   "source": [
    "from xgboost import XGBClassifier\n",
    "xgb=XGBClassifier(booster='gblinear',learning_rate=1,max_depth=3,min_samples_split=0.233)\n",
    "xgb.fit(x_train,y_train)"
   ]
  },
  {
   "cell_type": "code",
   "execution_count": 27,
   "metadata": {},
   "outputs": [
    {
     "name": "stdout",
     "output_type": "stream",
     "text": [
      "81.9672131147541\n"
     ]
    }
   ],
   "source": [
    "y_predtr=xgb.predict(x_train)\n",
    "print(accuracy_score(y_train,y_predtr)*100)"
   ]
  },
  {
   "cell_type": "code",
   "execution_count": 28,
   "metadata": {},
   "outputs": [
    {
     "name": "stdout",
     "output_type": "stream",
     "text": [
      "75.0\n"
     ]
    }
   ],
   "source": [
    "xgb_pred=xgb.predict(x_test)\n",
    "print(accuracy_score(y_test,xgb_pred)*100)"
   ]
  },
  {
   "cell_type": "code",
   "execution_count": 29,
   "metadata": {},
   "outputs": [
    {
     "data": {
      "text/plain": [
       "array([[ 0,  4],\n",
       "       [ 0, 12]], dtype=int64)"
      ]
     },
     "execution_count": 29,
     "metadata": {},
     "output_type": "execute_result"
    }
   ],
   "source": [
    "xgb_conf=confusion_matrix(y_test,xgb_pred)\n",
    "xgb_conf"
   ]
  },
  {
   "cell_type": "code",
   "execution_count": 30,
   "metadata": {},
   "outputs": [
    {
     "data": {
      "image/png": "[encoded data removed]",
      "text/plain": [
       "<Figure size 432x288 with 2 Axes>"
      ]
     },
     "metadata": {
      "needs_background": "light"
     },
     "output_type": "display_data"
    },
    {
     "data": {
      "text/plain": [
       "<Figure size 432x288 with 0 Axes>"
      ]
     },
     "metadata": {},
     "output_type": "display_data"
    }
   ],
   "source": [
    "sns.heatmap(xgb_conf, annot=True, annot_kws={\"size\": 60}) # font size\n",
    "\n",
    "pl.show()\n",
    "pl.savefig('xgb_confusion.png')"
   ]
  },
  {
   "cell_type": "code",
   "execution_count": 31,
   "metadata": {},
   "outputs": [
    {
     "name": "stdout",
     "output_type": "stream",
     "text": [
      "              precision    recall  f1-score   support\n",
      "\n",
      "         0.0       0.00      0.00      0.00         4\n",
      "         1.0       0.75      1.00      0.86        12\n",
      "\n",
      "    accuracy                           0.75        16\n",
      "   macro avg       0.38      0.50      0.43        16\n",
      "weighted avg       0.56      0.75      0.64        16\n",
      "\n"
     ]
    },
    {
     "name": "stderr",
     "output_type": "stream",
     "text": [
      "C:\\Users\\lenovo\\anaconda3\\lib\\site-packages\\sklearn\\metrics\\_classification.py:1308: UndefinedMetricWarning: Precision and F-score are ill-defined and being set to 0.0 in labels with no predicted samples. Use `zero_division` parameter to control this behavior.\n",
      "  _warn_prf(average, modifier, msg_start, len(result))\n",
      "C:\\Users\\lenovo\\anaconda3\\lib\\site-packages\\sklearn\\metrics\\_classification.py:1308: UndefinedMetricWarning: Precision and F-score are ill-defined and being set to 0.0 in labels with no predicted samples. Use `zero_division` parameter to control this behavior.\n",
      "  _warn_prf(average, modifier, msg_start, len(result))\n",
      "C:\\Users\\lenovo\\anaconda3\\lib\\site-packages\\sklearn\\metrics\\_classification.py:1308: UndefinedMetricWarning: Precision and F-score are ill-defined and being set to 0.0 in labels with no predicted samples. Use `zero_division` parameter to control this behavior.\n",
      "  _warn_prf(average, modifier, msg_start, len(result))\n"
     ]
    }
   ],
   "source": [
    "print(classification_report(y_test,xgb_pred))"
   ]
  },
  {
   "cell_type": "code",
   "execution_count": 32,
   "metadata": {},
   "outputs": [
    {
     "data": {
      "text/plain": [
       "RandomForestClassifier(criterion='entropy', max_depth=5,\n",
       "                       min_samples_split=0.233, n_estimators=5, random_state=5)"
      ]
     },
     "execution_count": 32,
     "metadata": {},
     "output_type": "execute_result"
    }
   ],
   "source": [
    "from sklearn.ensemble import RandomForestClassifier\n",
    "rfc=RandomForestClassifier(n_estimators=5,criterion='entropy',min_samples_split=.233,\n",
    "                             max_depth=5,max_features='auto',random_state=5)\n",
    "rfc.fit(x_train,y_train)"
   ]
  },
  {
   "cell_type": "code",
   "execution_count": 33,
   "metadata": {},
   "outputs": [
    {
     "name": "stdout",
     "output_type": "stream",
     "text": [
      "98.36065573770492\n"
     ]
    }
   ],
   "source": [
    "y_predtr=rfc.predict(x_train)\n",
    "print(accuracy_score(y_train,y_predtr)*100)"
   ]
  },
  {
   "cell_type": "code",
   "execution_count": null,
   "metadata": {},
   "outputs": [],
   "source": [
    "rfc_pred=rfc.predict(x_test)\n",
    "print(accuracy_score(y_test,rfc_pred)*100)"
   ]
  },
  {
   "cell_type": "code",
   "execution_count": null,
   "metadata": {},
   "outputs": [],
   "source": [
    "rfc_conf=confusion_matrix(y_test,rfc_pred)\n",
    "rfc_conf"
   ]
  },
  {
   "cell_type": "code",
   "execution_count": null,
   "metadata": {},
   "outputs": [],
   "source": [
    "sns.heatmap(rfc_conf, annot=True, annot_kws={\"size\": 60}) # font size\n",
    "\n",
    "pl.show()\n",
    "pl.savefig('rfc_confusion.png')"
   ]
  },
  {
   "cell_type": "code",
   "execution_count": null,
   "metadata": {},
   "outputs": [],
   "source": [
    "print(classification_report(y_test,rfc_pred))"
   ]
  },
  {
   "cell_type": "code",
   "execution_count": null,
   "metadata": {},
   "outputs": [],
   "source": [
    "from sklearn.ensemble import ExtraTreesClassifier\n",
    "etc=ExtraTreesClassifier(n_estimators=5,criterion='entropy',min_samples_split=.233,\n",
    "                             max_depth=5,max_features='log2',random_state=6)\n",
    "etc.fit(x_train,y_train)"
   ]
  },
  {
   "cell_type": "code",
   "execution_count": null,
   "metadata": {},
   "outputs": [],
   "source": [
    "y_predtr=etc.predict(x_train)\n",
    "print(accuracy_score(y_train,y_predtr)*100)"
   ]
  },
  {
   "cell_type": "code",
   "execution_count": null,
   "metadata": {},
   "outputs": [],
   "source": [
    "etc_pred=etc.predict(x_test)\n",
    "print(accuracy_score(y_test,etc_pred)*100)"
   ]
  },
  {
   "cell_type": "code",
   "execution_count": null,
   "metadata": {},
   "outputs": [],
   "source": [
    "etc_conf=confusion_matrix(y_test,etc_pred)\n",
    "etc_conf"
   ]
  },
  {
   "cell_type": "code",
   "execution_count": null,
   "metadata": {},
   "outputs": [],
   "source": [
    "sns.heatmap(etc_conf, annot=True, annot_kws={\"size\": 60}) # font size\n",
    "\n",
    "pl.show()\n",
    "pl.savefig('etc_confusion.png')"
   ]
  },
  {
   "cell_type": "code",
   "execution_count": null,
   "metadata": {},
   "outputs": [],
   "source": [
    "print(classification_report(y_test,etc_pred))"
   ]
  },
  {
   "cell_type": "code",
   "execution_count": null,
   "metadata": {},
   "outputs": [],
   "source": []
  },
  {
   "cell_type": "code",
   "execution_count": null,
   "metadata": {},
   "outputs": [],
   "source": []
  }
 ],
 "metadata": {
  "kernelspec": {
   "display_name": "Python 3",
   "language": "python",
   "name": "python3"
  },
  "language_info": {
   "codemirror_mode": {
    "name": "ipython",
    "version": 3
   },
   "file_extension": ".py",
   "mimetype": "text/x-python",
   "name": "python",
   "nbconvert_exporter": "python",
   "pygments_lexer": "ipython3",
   "version": "3.8.5"
  }
 },
 "nbformat": 4,
 "nbformat_minor": 4
}
