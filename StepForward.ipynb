{
 "cells": [
  {
   "cell_type": "code",
   "execution_count": 1,
   "metadata": {},
   "outputs": [],
   "source": [
    "import pandas as pd\n",
    "import numpy as np\n",
    "import warnings\n",
    "warnings.filterwarnings('ignore')\n",
    "\n",
    "import matplotlib.pyplot as pl\n",
    "import seaborn as sns\n",
    "%matplotlib inline\n",
    "\n",
    "from sklearn.metrics import confusion_matrix\n",
    "from sklearn.metrics import classification_report\n",
    "\n",
    "from sklearn.model_selection import train_test_split\n",
    "\n",
    "from sklearn.ensemble import RandomForestRegressor, RandomForestClassifier\n",
    "from sklearn.metrics import roc_auc_score\n",
    "\n",
    "from mlxtend.feature_selection import SequentialFeatureSelector as SFS"
   ]
  },
  {
   "cell_type": "code",
   "execution_count": 2,
   "metadata": {},
   "outputs": [
    {
     "data": {
      "text/html": [
       "<div>\n",
       "<style scoped>\n",
       "    .dataframe tbody tr th:only-of-type {\n",
       "        vertical-align: middle;\n",
       "    }\n",
       "\n",
       "    .dataframe tbody tr th {\n",
       "        vertical-align: top;\n",
       "    }\n",
       "\n",
       "    .dataframe thead th {\n",
       "        text-align: right;\n",
       "    }\n",
       "</style>\n",
       "<table border=\"1\" class=\"dataframe\">\n",
       "  <thead>\n",
       "    <tr style=\"text-align: right;\">\n",
       "      <th></th>\n",
       "      <th>Unnamed: 0</th>\n",
       "      <th>no_strokes_st</th>\n",
       "      <th>no_strokes_dy</th>\n",
       "      <th>speed_st</th>\n",
       "      <th>speed_dy</th>\n",
       "      <th>magnitude_vel_st</th>\n",
       "      <th>magnitude_horz_vel_st</th>\n",
       "      <th>magnitude_vert_vel_st</th>\n",
       "      <th>magnitude_vel_dy</th>\n",
       "      <th>magnitude_horz_vel_dy</th>\n",
       "      <th>...</th>\n",
       "      <th>magnitude_horz_jerk_dy</th>\n",
       "      <th>magnitude_vert_jerk_dy</th>\n",
       "      <th>ncv_st</th>\n",
       "      <th>ncv_dy</th>\n",
       "      <th>nca_st</th>\n",
       "      <th>nca_dy</th>\n",
       "      <th>in_air_stcp</th>\n",
       "      <th>on_surface_st</th>\n",
       "      <th>on_surface_dy</th>\n",
       "      <th>target</th>\n",
       "    </tr>\n",
       "  </thead>\n",
       "  <tbody>\n",
       "    <tr>\n",
       "      <th>0</th>\n",
       "      <td>0</td>\n",
       "      <td>12.0</td>\n",
       "      <td>2.0</td>\n",
       "      <td>0.000293</td>\n",
       "      <td>0.000431</td>\n",
       "      <td>0.061342</td>\n",
       "      <td>0.038319</td>\n",
       "      <td>0.039050</td>\n",
       "      <td>0.084891</td>\n",
       "      <td>0.053885</td>\n",
       "      <td>...</td>\n",
       "      <td>0.000006</td>\n",
       "      <td>0.000006</td>\n",
       "      <td>185.250000</td>\n",
       "      <td>412.857143</td>\n",
       "      <td>61.833333</td>\n",
       "      <td>470.0</td>\n",
       "      <td>0.0</td>\n",
       "      <td>3678.0</td>\n",
       "      <td>4852.0</td>\n",
       "      <td>1.0</td>\n",
       "    </tr>\n",
       "    <tr>\n",
       "      <th>1</th>\n",
       "      <td>1</td>\n",
       "      <td>4.0</td>\n",
       "      <td>6.0</td>\n",
       "      <td>0.000286</td>\n",
       "      <td>0.000281</td>\n",
       "      <td>0.119159</td>\n",
       "      <td>0.077012</td>\n",
       "      <td>0.074216</td>\n",
       "      <td>0.160497</td>\n",
       "      <td>0.101360</td>\n",
       "      <td>...</td>\n",
       "      <td>0.000010</td>\n",
       "      <td>0.000009</td>\n",
       "      <td>192.777778</td>\n",
       "      <td>173.875000</td>\n",
       "      <td>102.500000</td>\n",
       "      <td>54.0</td>\n",
       "      <td>0.0</td>\n",
       "      <td>1688.0</td>\n",
       "      <td>1587.0</td>\n",
       "      <td>1.0</td>\n",
       "    </tr>\n",
       "  </tbody>\n",
       "</table>\n",
       "<p>2 rows × 31 columns</p>\n",
       "</div>"
      ],
      "text/plain": [
       "   Unnamed: 0  no_strokes_st  no_strokes_dy  speed_st  speed_dy  \\\n",
       "0           0           12.0            2.0  0.000293  0.000431   \n",
       "1           1            4.0            6.0  0.000286  0.000281   \n",
       "\n",
       "   magnitude_vel_st  magnitude_horz_vel_st  magnitude_vert_vel_st  \\\n",
       "0          0.061342               0.038319               0.039050   \n",
       "1          0.119159               0.077012               0.074216   \n",
       "\n",
       "   magnitude_vel_dy  magnitude_horz_vel_dy  ...  magnitude_horz_jerk_dy  \\\n",
       "0          0.084891               0.053885  ...                0.000006   \n",
       "1          0.160497               0.101360  ...                0.000010   \n",
       "\n",
       "   magnitude_vert_jerk_dy      ncv_st      ncv_dy      nca_st  nca_dy  \\\n",
       "0                0.000006  185.250000  412.857143   61.833333   470.0   \n",
       "1                0.000009  192.777778  173.875000  102.500000    54.0   \n",
       "\n",
       "   in_air_stcp  on_surface_st  on_surface_dy  target  \n",
       "0          0.0         3678.0         4852.0     1.0  \n",
       "1          0.0         1688.0         1587.0     1.0  \n",
       "\n",
       "[2 rows x 31 columns]"
      ]
     },
     "execution_count": 2,
     "metadata": {},
     "output_type": "execute_result"
    }
   ],
   "source": [
    "data = pd.read_csv('data.csv')\n",
    "data.head(2)"
   ]
  },
  {
   "cell_type": "code",
   "execution_count": 3,
   "metadata": {},
   "outputs": [
    {
     "data": {
      "text/plain": [
       "((61, 29), (16, 29))"
      ]
     },
     "execution_count": 3,
     "metadata": {},
     "output_type": "execute_result"
    }
   ],
   "source": [
    "X_train, X_test, y_train, y_test = train_test_split(\n",
    "    data.drop(labels=['target', 'Unnamed: 0'], axis=1),\n",
    "    data['target'],\n",
    "    test_size=0.2,\n",
    "    random_state=0)\n",
    "\n",
    "X_train.shape, X_test.shape"
   ]
  },
  {
   "cell_type": "code",
   "execution_count": 4,
   "metadata": {},
   "outputs": [
    {
     "name": "stderr",
     "output_type": "stream",
     "text": [
      "[Parallel(n_jobs=1)]: Using backend SequentialBackend with 1 concurrent workers.\n",
      "[Parallel(n_jobs=1)]: Done   1 out of   1 | elapsed:    4.0s remaining:    0.0s\n",
      "[Parallel(n_jobs=1)]: Done  29 out of  29 | elapsed:   15.0s finished\n",
      "\n",
      "[2022-01-23 00:00:14] Features: 1/15 -- score: 0.9114583333333334[Parallel(n_jobs=1)]: Using backend SequentialBackend with 1 concurrent workers.\n",
      "[Parallel(n_jobs=1)]: Done   1 out of   1 | elapsed:    0.3s remaining:    0.0s\n",
      "[Parallel(n_jobs=1)]: Done  28 out of  28 | elapsed:   10.7s finished\n",
      "\n",
      "[2022-01-23 00:00:25] Features: 2/15 -- score: 0.9638480392156863[Parallel(n_jobs=1)]: Using backend SequentialBackend with 1 concurrent workers.\n",
      "[Parallel(n_jobs=1)]: Done   1 out of   1 | elapsed:    0.3s remaining:    0.0s\n",
      "[Parallel(n_jobs=1)]: Done  27 out of  27 | elapsed:   10.0s finished\n",
      "\n",
      "[2022-01-23 00:00:35] Features: 3/15 -- score: 0.9791666666666666[Parallel(n_jobs=1)]: Using backend SequentialBackend with 1 concurrent workers.\n",
      "[Parallel(n_jobs=1)]: Done   1 out of   1 | elapsed:    0.3s remaining:    0.0s\n",
      "[Parallel(n_jobs=1)]: Done  26 out of  26 | elapsed:   10.2s finished\n",
      "\n",
      "[2022-01-23 00:00:45] Features: 4/15 -- score: 0.96875[Parallel(n_jobs=1)]: Using backend SequentialBackend with 1 concurrent workers.\n",
      "[Parallel(n_jobs=1)]: Done   1 out of   1 | elapsed:    0.3s remaining:    0.0s\n",
      "[Parallel(n_jobs=1)]: Done  25 out of  25 | elapsed:    9.4s finished\n",
      "\n",
      "[2022-01-23 00:00:55] Features: 5/15 -- score: 0.9791666666666666[Parallel(n_jobs=1)]: Using backend SequentialBackend with 1 concurrent workers.\n",
      "[Parallel(n_jobs=1)]: Done   1 out of   1 | elapsed:    0.3s remaining:    0.0s\n",
      "[Parallel(n_jobs=1)]: Done  24 out of  24 | elapsed:    9.5s finished\n",
      "\n",
      "[2022-01-23 00:01:04] Features: 6/15 -- score: 0.9745710784313726[Parallel(n_jobs=1)]: Using backend SequentialBackend with 1 concurrent workers.\n",
      "[Parallel(n_jobs=1)]: Done   1 out of   1 | elapsed:    0.4s remaining:    0.0s\n",
      "[Parallel(n_jobs=1)]: Done  23 out of  23 | elapsed:    9.4s finished\n",
      "\n",
      "[2022-01-23 00:01:14] Features: 7/15 -- score: 0.9791666666666666[Parallel(n_jobs=1)]: Using backend SequentialBackend with 1 concurrent workers.\n",
      "[Parallel(n_jobs=1)]: Done   1 out of   1 | elapsed:    0.3s remaining:    0.0s\n",
      "[Parallel(n_jobs=1)]: Done  22 out of  22 | elapsed:    8.6s finished\n",
      "\n",
      "[2022-01-23 00:01:23] Features: 8/15 -- score: 0.9741115196078431[Parallel(n_jobs=1)]: Using backend SequentialBackend with 1 concurrent workers.\n",
      "[Parallel(n_jobs=1)]: Done   1 out of   1 | elapsed:    0.3s remaining:    0.0s\n",
      "[Parallel(n_jobs=1)]: Done  21 out of  21 | elapsed:    8.8s finished\n",
      "\n",
      "[2022-01-23 00:01:32] Features: 9/15 -- score: 0.9693627450980392[Parallel(n_jobs=1)]: Using backend SequentialBackend with 1 concurrent workers.\n",
      "[Parallel(n_jobs=1)]: Done   1 out of   1 | elapsed:    0.4s remaining:    0.0s\n",
      "[Parallel(n_jobs=1)]: Done  20 out of  20 | elapsed:    8.1s finished\n",
      "\n",
      "[2022-01-23 00:01:40] Features: 10/15 -- score: 0.9534313725490197[Parallel(n_jobs=1)]: Using backend SequentialBackend with 1 concurrent workers.\n",
      "[Parallel(n_jobs=1)]: Done   1 out of   1 | elapsed:    0.3s remaining:    0.0s\n",
      "[Parallel(n_jobs=1)]: Done  19 out of  19 | elapsed:    7.8s finished\n",
      "\n",
      "[2022-01-23 00:01:48] Features: 11/15 -- score: 0.9635416666666666[Parallel(n_jobs=1)]: Using backend SequentialBackend with 1 concurrent workers.\n",
      "[Parallel(n_jobs=1)]: Done   1 out of   1 | elapsed:    0.3s remaining:    0.0s\n",
      "[Parallel(n_jobs=1)]: Done  18 out of  18 | elapsed:    7.3s finished\n",
      "\n",
      "[2022-01-23 00:01:55] Features: 12/15 -- score: 0.9635416666666666[Parallel(n_jobs=1)]: Using backend SequentialBackend with 1 concurrent workers.\n",
      "[Parallel(n_jobs=1)]: Done   1 out of   1 | elapsed:    0.3s remaining:    0.0s\n",
      "[Parallel(n_jobs=1)]: Done  17 out of  17 | elapsed:    6.9s finished\n",
      "\n",
      "[2022-01-23 00:02:02] Features: 13/15 -- score: 0.9557291666666666[Parallel(n_jobs=1)]: Using backend SequentialBackend with 1 concurrent workers.\n",
      "[Parallel(n_jobs=1)]: Done   1 out of   1 | elapsed:    0.3s remaining:    0.0s\n",
      "[Parallel(n_jobs=1)]: Done  16 out of  16 | elapsed:    6.6s finished\n",
      "\n",
      "[2022-01-23 00:02:09] Features: 14/15 -- score: 0.9583333333333334[Parallel(n_jobs=1)]: Using backend SequentialBackend with 1 concurrent workers.\n",
      "[Parallel(n_jobs=1)]: Done   1 out of   1 | elapsed:    0.3s remaining:    0.0s\n",
      "[Parallel(n_jobs=1)]: Done  15 out of  15 | elapsed:    6.2s finished\n",
      "\n",
      "[2022-01-23 00:02:15] Features: 15/15 -- score: 0.9583333333333334"
     ]
    }
   ],
   "source": [
    "sfs1 = SFS(RandomForestClassifier(n_jobs=4), \n",
    "           k_features=15, \n",
    "           forward=True, \n",
    "           floating=False, \n",
    "           verbose=2,\n",
    "           scoring='roc_auc',\n",
    "           cv=3)\n",
    "\n",
    "sfs1 = sfs1.fit(np.array(X_train.fillna(0)), y_train)"
   ]
  },
  {
   "cell_type": "code",
   "execution_count": 5,
   "metadata": {},
   "outputs": [
    {
     "data": {
      "text/plain": [
       "Index(['no_strokes_st', 'no_strokes_dy', 'speed_st', 'speed_dy',\n",
       "       'magnitude_vert_vel_st', 'magnitude_vel_dy', 'magnitude_horz_vel_dy',\n",
       "       'magnitude_vert_vel_dy', 'magnitude_vert_acc_dy',\n",
       "       'magnitude_vert_jerk_dy', 'ncv_st', 'ncv_dy', 'nca_dy', 'in_air_stcp',\n",
       "       'on_surface_dy'],\n",
       "      dtype='object')"
      ]
     },
     "execution_count": 5,
     "metadata": {},
     "output_type": "execute_result"
    }
   ],
   "source": [
    "selected_feat= X_train.columns[list(sfs1.k_feature_idx_)]\n",
    "selected_feat"
   ]
  },
  {
   "cell_type": "code",
   "execution_count": 6,
   "metadata": {},
   "outputs": [
    {
     "data": {
      "text/plain": [
       "0.9583333333333334"
      ]
     },
     "execution_count": 6,
     "metadata": {},
     "output_type": "execute_result"
    }
   ],
   "source": [
    "sfs1.k_score_"
   ]
  },
  {
   "cell_type": "code",
   "execution_count": 7,
   "metadata": {
    "scrolled": true
   },
   "outputs": [
    {
     "data": {
      "text/html": [
       "<div>\n",
       "<style scoped>\n",
       "    .dataframe tbody tr th:only-of-type {\n",
       "        vertical-align: middle;\n",
       "    }\n",
       "\n",
       "    .dataframe tbody tr th {\n",
       "        vertical-align: top;\n",
       "    }\n",
       "\n",
       "    .dataframe thead th {\n",
       "        text-align: right;\n",
       "    }\n",
       "</style>\n",
       "<table border=\"1\" class=\"dataframe\">\n",
       "  <thead>\n",
       "    <tr style=\"text-align: right;\">\n",
       "      <th></th>\n",
       "      <th>feature_idx</th>\n",
       "      <th>cv_scores</th>\n",
       "      <th>avg_score</th>\n",
       "      <th>feature_names</th>\n",
       "      <th>ci_bound</th>\n",
       "      <th>std_dev</th>\n",
       "      <th>std_err</th>\n",
       "    </tr>\n",
       "  </thead>\n",
       "  <tbody>\n",
       "    <tr>\n",
       "      <th>1</th>\n",
       "      <td>(21,)</td>\n",
       "      <td>[1.0, 0.921875, 0.8125]</td>\n",
       "      <td>0.911458</td>\n",
       "      <td>(21,)</td>\n",
       "      <td>0.173051</td>\n",
       "      <td>0.0769001</td>\n",
       "      <td>0.0543766</td>\n",
       "    </tr>\n",
       "    <tr>\n",
       "      <th>2</th>\n",
       "      <td>(21, 26)</td>\n",
       "      <td>[0.9852941176470589, 0.96875, 0.9375]</td>\n",
       "      <td>0.963848</td>\n",
       "      <td>(21, 26)</td>\n",
       "      <td>0.0445956</td>\n",
       "      <td>0.0198174</td>\n",
       "      <td>0.014013</td>\n",
       "    </tr>\n",
       "    <tr>\n",
       "      <th>3</th>\n",
       "      <td>(21, 25, 26)</td>\n",
       "      <td>[1.0, 0.9375, 1.0]</td>\n",
       "      <td>0.979167</td>\n",
       "      <td>(21, 25, 26)</td>\n",
       "      <td>0.066301</td>\n",
       "      <td>0.0294628</td>\n",
       "      <td>0.0208333</td>\n",
       "    </tr>\n",
       "    <tr>\n",
       "      <th>4</th>\n",
       "      <td>(1, 21, 25, 26)</td>\n",
       "      <td>[1.0, 0.90625, 1.0]</td>\n",
       "      <td>0.96875</td>\n",
       "      <td>(1, 21, 25, 26)</td>\n",
       "      <td>0.0994514</td>\n",
       "      <td>0.0441942</td>\n",
       "      <td>0.03125</td>\n",
       "    </tr>\n",
       "    <tr>\n",
       "      <th>5</th>\n",
       "      <td>(1, 21, 22, 25, 26)</td>\n",
       "      <td>[1.0, 0.9375, 1.0]</td>\n",
       "      <td>0.979167</td>\n",
       "      <td>(1, 21, 22, 25, 26)</td>\n",
       "      <td>0.066301</td>\n",
       "      <td>0.0294628</td>\n",
       "      <td>0.0208333</td>\n",
       "    </tr>\n",
       "    <tr>\n",
       "      <th>6</th>\n",
       "      <td>(1, 15, 21, 22, 25, 26)</td>\n",
       "      <td>[0.9705882352941176, 0.953125, 1.0]</td>\n",
       "      <td>0.974571</td>\n",
       "      <td>(1, 15, 21, 22, 25, 26)</td>\n",
       "      <td>0.0435276</td>\n",
       "      <td>0.0193428</td>\n",
       "      <td>0.0136774</td>\n",
       "    </tr>\n",
       "    <tr>\n",
       "      <th>7</th>\n",
       "      <td>(1, 15, 21, 22, 23, 25, 26)</td>\n",
       "      <td>[1.0, 0.9375, 1.0]</td>\n",
       "      <td>0.979167</td>\n",
       "      <td>(1, 15, 21, 22, 23, 25, 26)</td>\n",
       "      <td>0.066301</td>\n",
       "      <td>0.0294628</td>\n",
       "      <td>0.0208333</td>\n",
       "    </tr>\n",
       "    <tr>\n",
       "      <th>8</th>\n",
       "      <td>(1, 7, 15, 21, 22, 23, 25, 26)</td>\n",
       "      <td>[0.9926470588235294, 0.9296875, 1.0]</td>\n",
       "      <td>0.974112</td>\n",
       "      <td>(1, 7, 15, 21, 22, 23, 25, 26)</td>\n",
       "      <td>0.0710106</td>\n",
       "      <td>0.0315556</td>\n",
       "      <td>0.0223132</td>\n",
       "    </tr>\n",
       "    <tr>\n",
       "      <th>9</th>\n",
       "      <td>(1, 6, 7, 15, 21, 22, 23, 25, 26)</td>\n",
       "      <td>[0.9705882352941176, 0.9375, 1.0]</td>\n",
       "      <td>0.969363</td>\n",
       "      <td>(1, 6, 7, 15, 21, 22, 23, 25, 26)</td>\n",
       "      <td>0.0574514</td>\n",
       "      <td>0.0255302</td>\n",
       "      <td>0.0180526</td>\n",
       "    </tr>\n",
       "    <tr>\n",
       "      <th>10</th>\n",
       "      <td>(1, 6, 7, 15, 21, 22, 23, 25, 26, 28)</td>\n",
       "      <td>[0.9852941176470589, 0.875, 1.0]</td>\n",
       "      <td>0.953431</td>\n",
       "      <td>(1, 6, 7, 15, 21, 22, 23, 25, 26, 28)</td>\n",
       "      <td>0.125531</td>\n",
       "      <td>0.0557834</td>\n",
       "      <td>0.0394448</td>\n",
       "    </tr>\n",
       "    <tr>\n",
       "      <th>11</th>\n",
       "      <td>(1, 6, 7, 8, 15, 21, 22, 23, 25, 26, 28)</td>\n",
       "      <td>[1.0, 0.890625, 1.0]</td>\n",
       "      <td>0.963542</td>\n",
       "      <td>(1, 6, 7, 8, 15, 21, 22, 23, 25, 26, 28)</td>\n",
       "      <td>0.116027</td>\n",
       "      <td>0.0515599</td>\n",
       "      <td>0.0364583</td>\n",
       "    </tr>\n",
       "    <tr>\n",
       "      <th>12</th>\n",
       "      <td>(0, 1, 6, 7, 8, 15, 21, 22, 23, 25, 26, 28)</td>\n",
       "      <td>[1.0, 0.890625, 1.0]</td>\n",
       "      <td>0.963542</td>\n",
       "      <td>(0, 1, 6, 7, 8, 15, 21, 22, 23, 25, 26, 28)</td>\n",
       "      <td>0.116027</td>\n",
       "      <td>0.0515599</td>\n",
       "      <td>0.0364583</td>\n",
       "    </tr>\n",
       "    <tr>\n",
       "      <th>13</th>\n",
       "      <td>(0, 1, 2, 6, 7, 8, 15, 21, 22, 23, 25, 26, 28)</td>\n",
       "      <td>[1.0, 0.8671875, 1.0]</td>\n",
       "      <td>0.955729</td>\n",
       "      <td>(0, 1, 2, 6, 7, 8, 15, 21, 22, 23, 25, 26, 28)</td>\n",
       "      <td>0.14089</td>\n",
       "      <td>0.0626084</td>\n",
       "      <td>0.0442708</td>\n",
       "    </tr>\n",
       "    <tr>\n",
       "      <th>14</th>\n",
       "      <td>(0, 1, 2, 6, 7, 8, 9, 15, 21, 22, 23, 25, 26, 28)</td>\n",
       "      <td>[1.0, 0.875, 1.0]</td>\n",
       "      <td>0.958333</td>\n",
       "      <td>(0, 1, 2, 6, 7, 8, 9, 15, 21, 22, 23, 25, 26, 28)</td>\n",
       "      <td>0.132602</td>\n",
       "      <td>0.0589256</td>\n",
       "      <td>0.0416667</td>\n",
       "    </tr>\n",
       "    <tr>\n",
       "      <th>15</th>\n",
       "      <td>(0, 1, 2, 3, 6, 7, 8, 9, 15, 21, 22, 23, 25, 2...</td>\n",
       "      <td>[1.0, 0.890625, 0.984375]</td>\n",
       "      <td>0.958333</td>\n",
       "      <td>(0, 1, 2, 3, 6, 7, 8, 9, 15, 21, 22, 23, 25, 2...</td>\n",
       "      <td>0.108691</td>\n",
       "      <td>0.0483001</td>\n",
       "      <td>0.0341533</td>\n",
       "    </tr>\n",
       "  </tbody>\n",
       "</table>\n",
       "</div>"
      ],
      "text/plain": [
       "                                          feature_idx  \\\n",
       "1                                               (21,)   \n",
       "2                                            (21, 26)   \n",
       "3                                        (21, 25, 26)   \n",
       "4                                     (1, 21, 25, 26)   \n",
       "5                                 (1, 21, 22, 25, 26)   \n",
       "6                             (1, 15, 21, 22, 25, 26)   \n",
       "7                         (1, 15, 21, 22, 23, 25, 26)   \n",
       "8                      (1, 7, 15, 21, 22, 23, 25, 26)   \n",
       "9                   (1, 6, 7, 15, 21, 22, 23, 25, 26)   \n",
       "10              (1, 6, 7, 15, 21, 22, 23, 25, 26, 28)   \n",
       "11           (1, 6, 7, 8, 15, 21, 22, 23, 25, 26, 28)   \n",
       "12        (0, 1, 6, 7, 8, 15, 21, 22, 23, 25, 26, 28)   \n",
       "13     (0, 1, 2, 6, 7, 8, 15, 21, 22, 23, 25, 26, 28)   \n",
       "14  (0, 1, 2, 6, 7, 8, 9, 15, 21, 22, 23, 25, 26, 28)   \n",
       "15  (0, 1, 2, 3, 6, 7, 8, 9, 15, 21, 22, 23, 25, 2...   \n",
       "\n",
       "                                cv_scores avg_score  \\\n",
       "1                 [1.0, 0.921875, 0.8125]  0.911458   \n",
       "2   [0.9852941176470589, 0.96875, 0.9375]  0.963848   \n",
       "3                      [1.0, 0.9375, 1.0]  0.979167   \n",
       "4                     [1.0, 0.90625, 1.0]   0.96875   \n",
       "5                      [1.0, 0.9375, 1.0]  0.979167   \n",
       "6     [0.9705882352941176, 0.953125, 1.0]  0.974571   \n",
       "7                      [1.0, 0.9375, 1.0]  0.979167   \n",
       "8    [0.9926470588235294, 0.9296875, 1.0]  0.974112   \n",
       "9       [0.9705882352941176, 0.9375, 1.0]  0.969363   \n",
       "10       [0.9852941176470589, 0.875, 1.0]  0.953431   \n",
       "11                   [1.0, 0.890625, 1.0]  0.963542   \n",
       "12                   [1.0, 0.890625, 1.0]  0.963542   \n",
       "13                  [1.0, 0.8671875, 1.0]  0.955729   \n",
       "14                      [1.0, 0.875, 1.0]  0.958333   \n",
       "15              [1.0, 0.890625, 0.984375]  0.958333   \n",
       "\n",
       "                                        feature_names   ci_bound    std_dev  \\\n",
       "1                                               (21,)   0.173051  0.0769001   \n",
       "2                                            (21, 26)  0.0445956  0.0198174   \n",
       "3                                        (21, 25, 26)   0.066301  0.0294628   \n",
       "4                                     (1, 21, 25, 26)  0.0994514  0.0441942   \n",
       "5                                 (1, 21, 22, 25, 26)   0.066301  0.0294628   \n",
       "6                             (1, 15, 21, 22, 25, 26)  0.0435276  0.0193428   \n",
       "7                         (1, 15, 21, 22, 23, 25, 26)   0.066301  0.0294628   \n",
       "8                      (1, 7, 15, 21, 22, 23, 25, 26)  0.0710106  0.0315556   \n",
       "9                   (1, 6, 7, 15, 21, 22, 23, 25, 26)  0.0574514  0.0255302   \n",
       "10              (1, 6, 7, 15, 21, 22, 23, 25, 26, 28)   0.125531  0.0557834   \n",
       "11           (1, 6, 7, 8, 15, 21, 22, 23, 25, 26, 28)   0.116027  0.0515599   \n",
       "12        (0, 1, 6, 7, 8, 15, 21, 22, 23, 25, 26, 28)   0.116027  0.0515599   \n",
       "13     (0, 1, 2, 6, 7, 8, 15, 21, 22, 23, 25, 26, 28)    0.14089  0.0626084   \n",
       "14  (0, 1, 2, 6, 7, 8, 9, 15, 21, 22, 23, 25, 26, 28)   0.132602  0.0589256   \n",
       "15  (0, 1, 2, 3, 6, 7, 8, 9, 15, 21, 22, 23, 25, 2...   0.108691  0.0483001   \n",
       "\n",
       "      std_err  \n",
       "1   0.0543766  \n",
       "2    0.014013  \n",
       "3   0.0208333  \n",
       "4     0.03125  \n",
       "5   0.0208333  \n",
       "6   0.0136774  \n",
       "7   0.0208333  \n",
       "8   0.0223132  \n",
       "9   0.0180526  \n",
       "10  0.0394448  \n",
       "11  0.0364583  \n",
       "12  0.0364583  \n",
       "13  0.0442708  \n",
       "14  0.0416667  \n",
       "15  0.0341533  "
      ]
     },
     "execution_count": 7,
     "metadata": {},
     "output_type": "execute_result"
    }
   ],
   "source": [
    "pd.DataFrame.from_dict(sfs1.get_metric_dict()).T"
   ]
  },
  {
   "cell_type": "code",
   "execution_count": 8,
   "metadata": {},
   "outputs": [
    {
     "data": {
      "text/plain": [
       "Index(['no_strokes_st', 'no_strokes_dy', 'speed_st', 'speed_dy',\n",
       "       'magnitude_vert_vel_st', 'magnitude_vel_dy', 'magnitude_horz_vel_dy',\n",
       "       'magnitude_vert_vel_dy', 'magnitude_vert_acc_dy',\n",
       "       'magnitude_vert_jerk_dy', 'ncv_st', 'ncv_dy', 'nca_dy', 'in_air_stcp',\n",
       "       'on_surface_dy'],\n",
       "      dtype='object')"
      ]
     },
     "execution_count": 8,
     "metadata": {},
     "output_type": "execute_result"
    }
   ],
   "source": [
    "selected_feat= X_train.columns[list(sfs1.k_feature_idx_)]\n",
    "selected_feat"
   ]
  },
  {
   "cell_type": "code",
   "execution_count": 9,
   "metadata": {},
   "outputs": [
    {
     "data": {
      "text/html": [
       "<div>\n",
       "<style scoped>\n",
       "    .dataframe tbody tr th:only-of-type {\n",
       "        vertical-align: middle;\n",
       "    }\n",
       "\n",
       "    .dataframe tbody tr th {\n",
       "        vertical-align: top;\n",
       "    }\n",
       "\n",
       "    .dataframe thead th {\n",
       "        text-align: right;\n",
       "    }\n",
       "</style>\n",
       "<table border=\"1\" class=\"dataframe\">\n",
       "  <thead>\n",
       "    <tr style=\"text-align: right;\">\n",
       "      <th></th>\n",
       "      <th>no_strokes_st</th>\n",
       "      <th>speed_st</th>\n",
       "      <th>magnitude_vel_st</th>\n",
       "      <th>magnitude_vel_dy</th>\n",
       "      <th>magnitude_horz_vel_dy</th>\n",
       "      <th>magnitude_vert_vel_dy</th>\n",
       "      <th>magnitude_vert_acc_st</th>\n",
       "      <th>magnitude_acc_dy</th>\n",
       "      <th>magnitude_vert_jerk_st</th>\n",
       "      <th>magnitude_vert_jerk_dy</th>\n",
       "      <th>ncv_st</th>\n",
       "      <th>ncv_dy</th>\n",
       "      <th>nca_dy</th>\n",
       "      <th>in_air_stcp</th>\n",
       "      <th>on_surface_dy</th>\n",
       "    </tr>\n",
       "  </thead>\n",
       "  <tbody>\n",
       "    <tr>\n",
       "      <th>0</th>\n",
       "      <td>12.0</td>\n",
       "      <td>0.000293</td>\n",
       "      <td>0.061342</td>\n",
       "      <td>0.084891</td>\n",
       "      <td>0.053885</td>\n",
       "      <td>0.052829</td>\n",
       "      <td>0.000212</td>\n",
       "      <td>0.000466</td>\n",
       "      <td>0.000005</td>\n",
       "      <td>0.000006</td>\n",
       "      <td>185.250000</td>\n",
       "      <td>412.857143</td>\n",
       "      <td>470.0</td>\n",
       "      <td>0.0</td>\n",
       "      <td>4852.0</td>\n",
       "    </tr>\n",
       "    <tr>\n",
       "      <th>1</th>\n",
       "      <td>4.0</td>\n",
       "      <td>0.000286</td>\n",
       "      <td>0.119159</td>\n",
       "      <td>0.160497</td>\n",
       "      <td>0.101360</td>\n",
       "      <td>0.099211</td>\n",
       "      <td>0.000327</td>\n",
       "      <td>0.000728</td>\n",
       "      <td>0.000007</td>\n",
       "      <td>0.000009</td>\n",
       "      <td>192.777778</td>\n",
       "      <td>173.875000</td>\n",
       "      <td>54.0</td>\n",
       "      <td>0.0</td>\n",
       "      <td>1587.0</td>\n",
       "    </tr>\n",
       "  </tbody>\n",
       "</table>\n",
       "</div>"
      ],
      "text/plain": [
       "   no_strokes_st  speed_st  magnitude_vel_st  magnitude_vel_dy  \\\n",
       "0           12.0  0.000293          0.061342          0.084891   \n",
       "1            4.0  0.000286          0.119159          0.160497   \n",
       "\n",
       "   magnitude_horz_vel_dy  magnitude_vert_vel_dy  magnitude_vert_acc_st  \\\n",
       "0               0.053885               0.052829               0.000212   \n",
       "1               0.101360               0.099211               0.000327   \n",
       "\n",
       "   magnitude_acc_dy  magnitude_vert_jerk_st  magnitude_vert_jerk_dy  \\\n",
       "0          0.000466                0.000005                0.000006   \n",
       "1          0.000728                0.000007                0.000009   \n",
       "\n",
       "       ncv_st      ncv_dy  nca_dy  in_air_stcp  on_surface_dy  \n",
       "0  185.250000  412.857143   470.0          0.0         4852.0  \n",
       "1  192.777778  173.875000    54.0          0.0         1587.0  "
      ]
     },
     "execution_count": 9,
     "metadata": {},
     "output_type": "execute_result"
    }
   ],
   "source": [
    "features=data[['no_strokes_st', 'speed_st', 'magnitude_vel_st', 'magnitude_vel_dy',\n",
    "       'magnitude_horz_vel_dy', 'magnitude_vert_vel_dy',\n",
    "       'magnitude_vert_acc_st', 'magnitude_acc_dy', 'magnitude_vert_jerk_st',\n",
    "       'magnitude_vert_jerk_dy', 'ncv_st', 'ncv_dy', 'nca_dy', 'in_air_stcp',\n",
    "       'on_surface_dy']]\n",
    "\n",
    "features.head(2)"
   ]
  },
  {
   "cell_type": "code",
   "execution_count": 10,
   "metadata": {},
   "outputs": [
    {
     "data": {
      "text/plain": [
       "['no_strokes_st',\n",
       " 'speed_st',\n",
       " 'magnitude_vel_st',\n",
       " 'magnitude_vel_dy',\n",
       " 'magnitude_horz_vel_dy',\n",
       " 'magnitude_vert_vel_dy',\n",
       " 'magnitude_vert_acc_st',\n",
       " 'magnitude_acc_dy',\n",
       " 'magnitude_vert_jerk_st',\n",
       " 'magnitude_vert_jerk_dy',\n",
       " 'ncv_st',\n",
       " 'ncv_dy',\n",
       " 'nca_dy',\n",
       " 'in_air_stcp',\n",
       " 'on_surface_dy']"
      ]
     },
     "execution_count": 10,
     "metadata": {},
     "output_type": "execute_result"
    }
   ],
   "source": [
    "list(features)"
   ]
  },
  {
   "cell_type": "code",
   "execution_count": 11,
   "metadata": {},
   "outputs": [],
   "source": [
    "y=data[['target']]\n"
   ]
  },
  {
   "cell_type": "code",
   "execution_count": 12,
   "metadata": {},
   "outputs": [],
   "source": [
    "from sklearn.preprocessing import MinMaxScaler\n",
    "scaler=MinMaxScaler((-1,1))\n",
    "x=scaler.fit_transform(features)"
   ]
  },
  {
   "cell_type": "code",
   "execution_count": 13,
   "metadata": {},
   "outputs": [],
   "source": [
    "from sklearn.linear_model import LogisticRegression\n",
    "from xgboost import XGBRFClassifier,XGBClassifier\n",
    "from sklearn.neighbors import KNeighborsClassifier\n",
    "from sklearn.svm import SVC\n",
    "from sklearn import svm\n",
    "from sklearn.tree import DecisionTreeClassifier\n",
    "from sklearn.ensemble import AdaBoostClassifier,ExtraTreesClassifier,GradientBoostingClassifier,RandomForestClassifier\n",
    "from sklearn.model_selection import GridSearchCV"
   ]
  },
  {
   "cell_type": "code",
   "execution_count": 14,
   "metadata": {},
   "outputs": [
    {
     "ename": "SyntaxError",
     "evalue": "unmatched '}' (<ipython-input-14-fe0066d6b041>, line 30)",
     "output_type": "error",
     "traceback": [
      "\u001b[1;36m  File \u001b[1;32m\"<ipython-input-14-fe0066d6b041>\"\u001b[1;36m, line \u001b[1;32m30\u001b[0m\n\u001b[1;33m    }\u001b[0m\n\u001b[1;37m    ^\u001b[0m\n\u001b[1;31mSyntaxError\u001b[0m\u001b[1;31m:\u001b[0m unmatched '}'\n"
     ]
    }
   ],
   "source": [
    "#model_params = {\n",
    "#     'svm': {\n",
    "#         'model': svm.SVC(gamma='auto'),\n",
    "#         'params' : {\n",
    "#             'C': [1,10,20],\n",
    "#             'kernel': ['poly','linear','rbf']\n",
    "#         }  \n",
    "#     },\n",
    "#     'xgb': {\n",
    "#         'model': GradientBoostingClassifier(),\n",
    "#         'params' : {\n",
    "#             'learning_rate': [0.01, 0.1, 0.2, 1],\n",
    "#             'min_samples_split': np.linspace(0.1, 0.5, 10),\n",
    "#             'max_depth':[3,5,8],\n",
    "#             'subsample':[0.5, 0.9, 1.0],\n",
    "#             'n_estimators':[100,1000]\n",
    "#         }  \n",
    "  #  },\n",
    "#     'xgb':{\n",
    "#         'model':XGBClassifier(),\n",
    "#             'params':{\n",
    "#                 'booster':['gblinear'],\n",
    "#                 'learning_rate': [0.01, 0.1, 0.2, 1],\n",
    "#                 \"max_depth\":[3,5,8],\n",
    "#                 'min_samples_split': np.linspace(0.1, 0.5, 10),\n",
    "#             }\n",
    "        \n",
    "        \n",
    "#     },\n",
    "}   \n",
    "#     'decision_tree': {\n",
    "#         'model': DecisionTreeClassifier(),\n",
    "#         'params' : {\n",
    "            \n",
    "#              'max_depth':[3,5,8],\n",
    "#              'criterion':['gini','entropy'],\n",
    "#              'min_samples_split': np.linspace(0.1, 0.5, 10),\n",
    "#              'splitter':['best','random'],\n",
    "#               'random_state':[2,3,4,5,6,7],\n",
    "#         }\n",
    "#     },\n",
    "#     'random_forest': {\n",
    "#         'model': RandomForestClassifier(),\n",
    "#         'params' : {\n",
    "#             'n_estimators': [1,5,10],\n",
    "#             'max_depth':[3,5,8],\n",
    "#             'criterion':['gini','entropy'],\n",
    "#             'min_samples_split': np.linspace(0.1, 0.5, 10),\n",
    "#             'max_features':['auto','sqrt','log2'],\n",
    "#             'random_state':[2,3,4,5,6,7],\n",
    "#         }\n",
    "            \n",
    "        \n",
    "#     },\n",
    "#      'extra_tree': {\n",
    "#         'model': ExtraTreesClassifier(),\n",
    "#         'params' : {\n",
    "#             'n_estimators': [1,5,10],\n",
    "#             'max_depth':[3,5,8],\n",
    "#             'criterion':['gini','entropy'],\n",
    "#             'min_samples_split': np.linspace(0.1, 0.5, 10),\n",
    "#             'max_features':['auto','sqrt','log2'],\n",
    "#             'random_state':[2,3,4,5,6,7],\n",
    "            \n",
    "#         }\n",
    "            \n",
    "        \n",
    "#     },\n",
    "#     'logistic_regression' : {\n",
    "#         'model': LogisticRegression(solver='liblinear',multi_class='auto'),\n",
    "#         'params': {\n",
    "#             'C': [1,5,10]\n",
    "#         }\n",
    "#     }\n",
    "# }"
   ]
  },
  {
   "cell_type": "code",
   "execution_count": null,
   "metadata": {},
   "outputs": [],
   "source": [
    "# scores = []\n",
    "\n",
    "# for model_name, mp in model_params.items():\n",
    "#     clf =  GridSearchCV(mp['model'], mp['params'], cv=5, return_train_score=False)\n",
    "#     clf.fit(x,y)\n",
    "#     scores.append({\n",
    "#         'model': model_name,\n",
    "#         'best_score': clf.best_score_,\n",
    "#         'best_params': clf.best_params_\n",
    "#     })\n",
    "    \n",
    "# df = pd.DataFrame(scores,columns=['model','best_params','best_score'])\n",
    "# df"
   ]
  },
  {
   "cell_type": "code",
   "execution_count": null,
   "metadata": {},
   "outputs": [],
   "source": [
    "#  df.to_csv('stepParam.csv')"
   ]
  },
  {
   "cell_type": "code",
   "execution_count": null,
   "metadata": {},
   "outputs": [],
   "source": [
    "x_train,x_test,y_train,y_test=train_test_split(x, y, test_size=0.2, random_state=5)"
   ]
  },
  {
   "cell_type": "code",
   "execution_count": null,
   "metadata": {},
   "outputs": [],
   "source": [
    "xgb=XGBClassifier()\n",
    "xgb.fit(x_train,y_train)\n"
   ]
  },
  {
   "cell_type": "code",
   "execution_count": null,
   "metadata": {},
   "outputs": [],
   "source": [
    "y_predtr=xgb.predict(x_train)\n",
    "print(accuracy_score(y_train,y_predtr)*100)"
   ]
  },
  {
   "cell_type": "code",
   "execution_count": null,
   "metadata": {},
   "outputs": [],
   "source": [
    "xgb_pred=xgb.predict(x_test)\n",
    "print(accuracy_score(y_test,xgb_pred)*100)"
   ]
  },
  {
   "cell_type": "code",
   "execution_count": null,
   "metadata": {},
   "outputs": [],
   "source": [
    "xgb_conf=confusion_matrix(y_test,xgb_pred)\n",
    "xgb_conf"
   ]
  },
  {
   "cell_type": "code",
   "execution_count": null,
   "metadata": {},
   "outputs": [],
   "source": [
    "sns.heatmap(xgb_conf, annot=True, annot_kws={\"size\": 60}) # font size\n",
    "\n",
    "pl.show()\n",
    "pl.savefig('xgb_confusion.png')"
   ]
  },
  {
   "cell_type": "code",
   "execution_count": null,
   "metadata": {},
   "outputs": [],
   "source": [
    "print(classification_report(y_test,xgb_pred))"
   ]
  },
  {
   "cell_type": "code",
   "execution_count": null,
   "metadata": {},
   "outputs": [],
   "source": [
    "from sklearn.metrics import classification_report\n",
    "print(classification_report(y_test,y_pred))"
   ]
  },
  {
   "cell_type": "code",
   "execution_count": null,
   "metadata": {},
   "outputs": [],
   "source": [
    "from sklearn.metrics import confusion_matrix\n",
    "confusion_matrix(y_test,y_pred)"
   ]
  },
  {
   "cell_type": "code",
   "execution_count": null,
   "metadata": {},
   "outputs": [],
   "source": [
    "from sklearn.metrics import classification_report\n",
    "print(classification_report(y_test,y_pred))"
   ]
  },
  {
   "cell_type": "code",
   "execution_count": null,
   "metadata": {},
   "outputs": [],
   "source": [
    "etc=ExtraTreesClassifier(n_estimators=10,criterion='entropy',min_samples_split=.144,\n",
    "                             max_depth=8,max_features='auto',random_state=5)\n",
    "etc.fit(x_train,y_train)"
   ]
  },
  {
   "cell_type": "code",
   "execution_count": null,
   "metadata": {},
   "outputs": [],
   "source": [
    "y_predtr=etc.predict(x_train)\n",
    "print(accuracy_score(y_train,y_predtr)*100)"
   ]
  },
  {
   "cell_type": "code",
   "execution_count": null,
   "metadata": {},
   "outputs": [],
   "source": [
    "etc_pred=etc.predict(x_test)\n",
    "print(accuracy_score(y_test,etc_pred)*100)"
   ]
  },
  {
   "cell_type": "code",
   "execution_count": null,
   "metadata": {},
   "outputs": [],
   "source": [
    "etc_conf=confusion_matrix(y_test,etc_pred)\n",
    "etc_conf"
   ]
  },
  {
   "cell_type": "code",
   "execution_count": null,
   "metadata": {},
   "outputs": [],
   "source": [
    "sns.heatmap(etc_conf, annot=True, annot_kws={\"size\": 60}) # font size\n",
    "\n",
    "pl.show()\n",
    "pl.savefig('etc_confusion.png')"
   ]
  },
  {
   "cell_type": "code",
   "execution_count": null,
   "metadata": {},
   "outputs": [],
   "source": [
    "print(classification_report(y_test,etc_pred))"
   ]
  },
  {
   "cell_type": "code",
   "execution_count": null,
   "metadata": {},
   "outputs": [],
   "source": [
    "from sklearn.metrics import accuracy_score,mean_squared_error\n",
    "model=RandomForestClassifier()\n",
    "model.fit(x_train,y_train)"
   ]
  },
  {
   "cell_type": "code",
   "execution_count": null,
   "metadata": {},
   "outputs": [],
   "source": [
    "y_predtr=model.predict(x_train)\n",
    "print(accuracy_score(y_train,y_predtr)*100)"
   ]
  },
  {
   "cell_type": "code",
   "execution_count": null,
   "metadata": {},
   "outputs": [],
   "source": [
    "y_pred=model.predict(x_test)\n",
    "print(accuracy_score(y_test, y_pred)*100)"
   ]
  },
  {
   "cell_type": "code",
   "execution_count": null,
   "metadata": {},
   "outputs": [],
   "source": [
    "from sklearn.ensemble import RandomForestClassifier\n",
    "rfc=RandomForestClassifier(n_estimators=10,criterion='gini',min_samples_split=.1,\n",
    "                             max_depth=5,max_features='auto',random_state=2)\n",
    "rfc.fit(x_train,y_train)\n"
   ]
  },
  {
   "cell_type": "code",
   "execution_count": null,
   "metadata": {},
   "outputs": [],
   "source": [
    "y_predtr=rfc.predict(x_train)\n",
    "print(accuracy_score(y_train,y_predtr)*100)"
   ]
  },
  {
   "cell_type": "code",
   "execution_count": null,
   "metadata": {},
   "outputs": [],
   "source": [
    "rfc_pred=rfc.predict(x_test)\n",
    "print(accuracy_score(y_test,rfc_pred)*100)"
   ]
  },
  {
   "cell_type": "code",
   "execution_count": null,
   "metadata": {},
   "outputs": [],
   "source": [
    "rfc_conf=confusion_matrix(y_test,rfc_pred)\n",
    "rfc_conf"
   ]
  },
  {
   "cell_type": "code",
   "execution_count": null,
   "metadata": {},
   "outputs": [],
   "source": [
    "sns.heatmap(rfc_conf, annot=True, annot_kws={\"size\": 60}) # font size\n",
    "\n",
    "pl.show()\n",
    "pl.savefig('step_confusion.png')"
   ]
  },
  {
   "cell_type": "code",
   "execution_count": null,
   "metadata": {},
   "outputs": [],
   "source": [
    "print(classification_report(y_test,rfc_pred))"
   ]
  },
  {
   "cell_type": "code",
   "execution_count": null,
   "metadata": {},
   "outputs": [],
   "source": [
    "svm=SVC(kernel='poly')\n",
    "svm.fit(x_train,y_train)"
   ]
  },
  {
   "cell_type": "code",
   "execution_count": null,
   "metadata": {},
   "outputs": [],
   "source": [
    "y_predtr=svm.predict(x_train)\n",
    "print(accuracy_score(y_train,y_predtr)*100)"
   ]
  },
  {
   "cell_type": "code",
   "execution_count": null,
   "metadata": {},
   "outputs": [],
   "source": [
    "svm_pred=svm.predict(x_test)\n",
    "print(accuracy_score(y_test, svm_pred)*100)"
   ]
  },
  {
   "cell_type": "code",
   "execution_count": null,
   "metadata": {},
   "outputs": [],
   "source": [
    "svm_conf=confusion_matrix(y_test,svm_pred)\n",
    "svm_conf"
   ]
  },
  {
   "cell_type": "code",
   "execution_count": null,
   "metadata": {},
   "outputs": [],
   "source": [
    "sns.heatmap(svm_conf, annot=True, annot_kws={\"size\": 60}) # font size\n",
    "\n",
    "pl.show()"
   ]
  },
  {
   "cell_type": "code",
   "execution_count": null,
   "metadata": {},
   "outputs": [],
   "source": [
    "print(classification_report(y_test,svm_pred))"
   ]
  },
  {
   "cell_type": "code",
   "execution_count": null,
   "metadata": {},
   "outputs": [],
   "source": [
    "# input_data = (0.000148,0.000006,0.0)\n",
    "# input_data_as_numpy_array = np.asarray(input_data)\n",
    "# input_data_reshaped = input_data_as_numpy_array.reshape(1,-1)\n",
    "# std_data = scaler.transform(input_data_reshaped)\n",
    "# prediction = model.predict(std_data)\n",
    "# print(prediction)\n",
    "# if (prediction[0] == 0):\n",
    "#   print(\"The Person does not have Parkinsons Disease\")\n",
    "\n",
    "# else:\n",
    "#   print(\"The Person has Parkinsons\")\n"
   ]
  },
  {
   "cell_type": "code",
   "execution_count": null,
   "metadata": {},
   "outputs": [],
   "source": [
    "from sklearn.linear_model import LogisticRegression\n",
    "\n",
    "model=LogisticRegression()\n",
    "model.fit(x_train,y_train)"
   ]
  },
  {
   "cell_type": "code",
   "execution_count": null,
   "metadata": {},
   "outputs": [],
   "source": [
    "y_predtr=model.predict(x_train)\n",
    "print(accuracy_score(y_train,y_predtr)*100)"
   ]
  },
  {
   "cell_type": "code",
   "execution_count": null,
   "metadata": {},
   "outputs": [],
   "source": [
    "y_pred=model.predict(x_test)\n",
    "print(accuracy_score(y_test, y_pred)*100)"
   ]
  },
  {
   "cell_type": "code",
   "execution_count": null,
   "metadata": {},
   "outputs": [],
   "source": [
    "from sklearn.tree import DecisionTreeClassifier\n",
    "\n",
    "model=DecisionTreeClassifier()\n",
    "model.fit(x_train,y_train)"
   ]
  },
  {
   "cell_type": "code",
   "execution_count": null,
   "metadata": {},
   "outputs": [],
   "source": [
    "y_predtr=model.predict(x_train)\n",
    "print(accuracy_score(y_train,y_predtr)*100)"
   ]
  },
  {
   "cell_type": "code",
   "execution_count": null,
   "metadata": {},
   "outputs": [],
   "source": [
    "y_pred=model.predict(x_test)\n",
    "print(accuracy_score(y_test, y_pred)*100)"
   ]
  },
  {
   "cell_type": "code",
   "execution_count": null,
   "metadata": {},
   "outputs": [],
   "source": [
    "from sklearn.metrics import confusion_matrix\n",
    "confusion_matrix(y_test,y_pred)"
   ]
  },
  {
   "cell_type": "code",
   "execution_count": null,
   "metadata": {},
   "outputs": [],
   "source": [
    "from sklearn.metrics import classification_report\n",
    "print(classification_report(y_test,y_pred))"
   ]
  },
  {
   "cell_type": "code",
   "execution_count": null,
   "metadata": {},
   "outputs": [],
   "source": []
  },
  {
   "cell_type": "code",
   "execution_count": null,
   "metadata": {},
   "outputs": [],
   "source": []
  },
  {
   "cell_type": "code",
   "execution_count": null,
   "metadata": {},
   "outputs": [],
   "source": []
  }
 ],
 "metadata": {
  "kernelspec": {
   "display_name": "Python 3",
   "language": "python",
   "name": "python3"
  },
  "language_info": {
   "codemirror_mode": {
    "name": "ipython",
    "version": 3
   },
   "file_extension": ".py",
   "mimetype": "text/x-python",
   "name": "python",
   "nbconvert_exporter": "python",
   "pygments_lexer": "ipython3",
   "version": "3.8.5"
  }
 },
 "nbformat": 4,
 "nbformat_minor": 4
}
